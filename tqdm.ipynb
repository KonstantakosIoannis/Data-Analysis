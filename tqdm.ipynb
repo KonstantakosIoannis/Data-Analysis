{
 "cells": [
  {
   "cell_type": "code",
   "execution_count": 1,
   "id": "24cb3497-0dcc-4e68-8b7f-07810020717d",
   "metadata": {},
   "outputs": [
    {
     "name": "stdout",
     "output_type": "stream",
     "text": [
      "Retrieving notices: ...working... done\n",
      "Collecting package metadata (current_repodata.json): ...working... done\n",
      "Solving environment: ...working... done\n",
      "\n",
      "## Package Plan ##\n",
      "\n",
      "  environment location: C:\\Users\\konst\\anaconda3\n",
      "\n",
      "  added / updated specs:\n",
      "    - tqdm\n",
      "\n",
      "\n",
      "The following packages will be downloaded:\n",
      "\n",
      "    package                    |            build\n",
      "    ---------------------------|-----------------\n",
      "    tqdm-4.64.1                |     pyhd8ed1ab_0          82 KB  conda-forge\n",
      "    ------------------------------------------------------------\n",
      "                                           Total:          82 KB\n",
      "\n",
      "The following packages will be SUPERSEDED by a higher-priority channel:\n",
      "\n",
      "  ca-certificates    pkgs/main::ca-certificates-2023.01.10~ --> conda-forge::ca-certificates-2022.12.7-h5b45459_0 \n",
      "  certifi            pkgs/main/win-64::certifi-2022.12.7-p~ --> conda-forge/noarch::certifi-2022.12.7-pyhd8ed1ab_0 \n",
      "  tqdm               pkgs/main/win-64::tqdm-4.64.1-py39haa~ --> conda-forge/noarch::tqdm-4.64.1-pyhd8ed1ab_0 \n",
      "\n",
      "\n",
      "\n",
      "Downloading and Extracting Packages\n",
      "\n",
      "tqdm-4.64.1          | 82 KB     |            |   0% \n",
      "tqdm-4.64.1          | 82 KB     | ########## | 100% \n",
      "tqdm-4.64.1          | 82 KB     | ########## | 100% \n",
      "                                                     \n",
      "\n",
      "\n",
      "Preparing transaction: ...working... done\n",
      "Verifying transaction: ...working... done\n",
      "Executing transaction: ...working... done\n",
      "\n",
      "Note: you may need to restart the kernel to use updated packages.\n"
     ]
    }
   ],
   "source": [
    "conda install -c conda-forge tqdm"
   ]
  },
  {
   "cell_type": "code",
   "execution_count": 1,
   "id": "d7d08a79-deca-4399-bb10-6fede7c40cfe",
   "metadata": {},
   "outputs": [],
   "source": [
    "import numpy\n",
    "import pandas\n",
    "import time\n",
    "import tqdm"
   ]
  },
  {
   "cell_type": "code",
   "execution_count": 2,
   "id": "4b898c57-a2a1-4736-8fa0-be67981cfc4f",
   "metadata": {},
   "outputs": [],
   "source": [
    "league = pandas.DataFrame()\n",
    "size=20000\n",
    "league['age'] = numpy.random.randint(1,40,size)\n",
    "league['position']=numpy.random.choice(['attacker','defender','goalkeeper'],size)\n",
    "league['team']=numpy.random.choice(['red','green','blue','yellow'],size)\n",
    "league['win']=numpy.random.choice(['yes','no'],size)\n",
    "league['probability']=numpy.random.uniform(0,1,size)"
   ]
  },
  {
   "cell_type": "code",
   "execution_count": 3,
   "id": "efab1fa2-0039-4821-86e1-1d8fd2583449",
   "metadata": {},
   "outputs": [],
   "source": [
    "alpha = numpy.random.randint(1,10,200)"
   ]
  },
  {
   "cell_type": "code",
   "execution_count": 6,
   "id": "9cb14d38-d532-4b32-95cc-fccc8c77e64e",
   "metadata": {},
   "outputs": [
    {
     "data": {
      "text/plain": [
       "array([1, 4, 7, 3, 5, 3, 2, 5, 9, 3, 6, 3, 9, 2, 2, 6, 8, 7, 9, 4, 7, 2,\n",
       "       1, 4, 4, 2, 8, 1, 9, 3, 2, 5, 8, 6, 7, 5, 9, 9, 2, 1, 3, 6, 7, 7,\n",
       "       4, 3, 6, 3, 9, 8, 7, 3, 1, 3, 4, 6, 5, 4, 5, 6, 2, 6, 6, 2, 8, 7,\n",
       "       9, 1, 6, 6, 9, 4, 7, 4, 1, 6, 9, 6, 2, 7, 3, 7, 9, 3, 7, 2, 7, 9,\n",
       "       3, 9, 3, 8, 2, 2, 3, 2, 6, 7, 4, 8, 9, 2, 6, 4, 2, 9, 3, 2, 6, 2,\n",
       "       9, 3, 3, 6, 6, 4, 3, 5, 8, 9, 3, 8, 6, 3, 8, 7, 4, 3, 7, 4, 8, 4,\n",
       "       3, 8, 7, 6, 6, 8, 4, 4, 5, 8, 8, 4, 1, 4, 3, 5, 9, 9, 9, 4, 9, 6,\n",
       "       8, 1, 3, 7, 7, 5, 2, 1, 5, 8, 3, 8, 6, 1, 8, 7, 3, 7, 6, 6, 8, 7,\n",
       "       4, 2, 6, 7, 3, 6, 8, 4, 2, 2, 2, 1, 6, 1, 8, 4, 9, 4, 2, 3, 5, 6,\n",
       "       4, 3])"
      ]
     },
     "execution_count": 6,
     "metadata": {},
     "output_type": "execute_result"
    }
   ],
   "source": [
    "alpha#array with  20.000 random ints"
   ]
  },
  {
   "cell_type": "code",
   "execution_count": 7,
   "id": "97154ea5-316b-4a47-a340-10f262c174d5",
   "metadata": {},
   "outputs": [
    {
     "name": "stderr",
     "output_type": "stream",
     "text": [
      "100%|████████████████████████████████████████████████████████████████████████████████| 200/200 [00:03<00:00, 63.42it/s]\n"
     ]
    }
   ],
   "source": [
    "for i in tqdm.tqdm(alpha):\n",
    "    time.sleep(0.00000001)\n",
    "    pass\n"
   ]
  },
  {
   "cell_type": "code",
   "execution_count": 8,
   "id": "c7fde8b0-5823-4baf-a9d2-020fc6557896",
   "metadata": {},
   "outputs": [],
   "source": [
    "for i in tqdm.tqdm(alpha,disable=True):#Turns off the tqdm bar\n",
    "    time.sleep(0.00000001)\n",
    "    pass\n"
   ]
  },
  {
   "cell_type": "code",
   "execution_count": 9,
   "id": "eafb0c34-603d-4dc2-af1f-dd2b0b148724",
   "metadata": {},
   "outputs": [
    {
     "data": {
      "text/plain": [
       "0        320\n",
       "1        200\n",
       "2        270\n",
       "3        380\n",
       "4        190\n",
       "        ... \n",
       "19995    260\n",
       "19996    100\n",
       "19997    200\n",
       "19998    270\n",
       "19999    290\n",
       "Length: 20000, dtype: int64"
      ]
     },
     "execution_count": 9,
     "metadata": {},
     "output_type": "execute_result"
    }
   ],
   "source": [
    "league.apply(lambda a:a['age']*10,axis=1)"
   ]
  },
  {
   "cell_type": "code",
   "execution_count": 11,
   "id": "86759b71-c957-406d-b8df-021c288a3da2",
   "metadata": {},
   "outputs": [],
   "source": [
    "tqdm.tqdm.pandas(desc='my BAR')"
   ]
  },
  {
   "cell_type": "code",
   "execution_count": 12,
   "id": "6dea2648-c975-481c-9f9a-8ed78a288258",
   "metadata": {},
   "outputs": [
    {
     "name": "stderr",
     "output_type": "stream",
     "text": [
      "my BAR: 100%|█████████████████████████████████████████████████████████████████| 20000/20000 [00:00<00:00, 43679.81it/s]\n"
     ]
    },
    {
     "data": {
      "text/plain": [
       "0        320\n",
       "1        200\n",
       "2        270\n",
       "3        380\n",
       "4        190\n",
       "        ... \n",
       "19995    260\n",
       "19996    100\n",
       "19997    200\n",
       "19998    270\n",
       "19999    290\n",
       "Length: 20000, dtype: int64"
      ]
     },
     "execution_count": 12,
     "metadata": {},
     "output_type": "execute_result"
    }
   ],
   "source": [
    "league.progress_apply(lambda a:a['age']*10,axis=1)\n"
   ]
  },
  {
   "cell_type": "code",
   "execution_count": null,
   "id": "b5473346-ca89-4b8f-8266-a94e6303989e",
   "metadata": {},
   "outputs": [],
   "source": []
  }
 ],
 "metadata": {
  "kernelspec": {
   "display_name": "Python 3 (ipykernel)",
   "language": "python",
   "name": "python3"
  },
  "language_info": {
   "codemirror_mode": {
    "name": "ipython",
    "version": 3
   },
   "file_extension": ".py",
   "mimetype": "text/x-python",
   "name": "python",
   "nbconvert_exporter": "python",
   "pygments_lexer": "ipython3",
   "version": "3.9.13"
  }
 },
 "nbformat": 4,
 "nbformat_minor": 5
}
