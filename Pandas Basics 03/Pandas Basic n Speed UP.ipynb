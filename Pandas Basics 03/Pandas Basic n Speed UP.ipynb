{
 "cells": [
  {
   "cell_type": "code",
   "execution_count": 1,
   "id": "3297c10a-b807-45a1-b921-5232f422957f",
   "metadata": {},
   "outputs": [],
   "source": [
    "import pandas\n",
    "import numpy\n",
    "import time"
   ]
  },
  {
   "cell_type": "code",
   "execution_count": 2,
   "id": "555e25e8-40c7-4809-a2ad-62af3a499855",
   "metadata": {},
   "outputs": [],
   "source": [
    "league = pandas.DataFrame()\n",
    "size=2_000_000"
   ]
  },
  {
   "cell_type": "code",
   "execution_count": 3,
   "id": "3197dc82-184f-48dd-9590-a3db5b692c63",
   "metadata": {},
   "outputs": [],
   "source": [
    "league['age'] = numpy.random.randint(1,40,size)\n",
    "league['position']=numpy.random.choice(['attacker','defender','goalkeeper'],size)\n",
    "league['team']=numpy.random.choice(['red','green','blue','yellow'],size)\n",
    "league['win']=numpy.random.choice(['yes','no'],size)\n",
    "league['probability']=numpy.random.uniform(0,1,size)\n",
    "\n"
   ]
  },
  {
   "cell_type": "code",
   "execution_count": 4,
   "id": "c9b25c4c-30d1-4b58-9b23-88821be96e64",
   "metadata": {},
   "outputs": [
    {
     "data": {
      "text/html": [
       "<div>\n",
       "<style scoped>\n",
       "    .dataframe tbody tr th:only-of-type {\n",
       "        vertical-align: middle;\n",
       "    }\n",
       "\n",
       "    .dataframe tbody tr th {\n",
       "        vertical-align: top;\n",
       "    }\n",
       "\n",
       "    .dataframe thead th {\n",
       "        text-align: right;\n",
       "    }\n",
       "</style>\n",
       "<table border=\"1\" class=\"dataframe\">\n",
       "  <thead>\n",
       "    <tr style=\"text-align: right;\">\n",
       "      <th></th>\n",
       "      <th>age</th>\n",
       "      <th>position</th>\n",
       "      <th>team</th>\n",
       "      <th>win</th>\n",
       "      <th>probability</th>\n",
       "    </tr>\n",
       "  </thead>\n",
       "  <tbody>\n",
       "    <tr>\n",
       "      <th>0</th>\n",
       "      <td>25</td>\n",
       "      <td>defender</td>\n",
       "      <td>red</td>\n",
       "      <td>no</td>\n",
       "      <td>0.681043</td>\n",
       "    </tr>\n",
       "    <tr>\n",
       "      <th>1</th>\n",
       "      <td>27</td>\n",
       "      <td>goalkeeper</td>\n",
       "      <td>red</td>\n",
       "      <td>no</td>\n",
       "      <td>0.719119</td>\n",
       "    </tr>\n",
       "    <tr>\n",
       "      <th>2</th>\n",
       "      <td>37</td>\n",
       "      <td>goalkeeper</td>\n",
       "      <td>green</td>\n",
       "      <td>no</td>\n",
       "      <td>0.178728</td>\n",
       "    </tr>\n",
       "    <tr>\n",
       "      <th>3</th>\n",
       "      <td>27</td>\n",
       "      <td>attacker</td>\n",
       "      <td>blue</td>\n",
       "      <td>no</td>\n",
       "      <td>0.082314</td>\n",
       "    </tr>\n",
       "    <tr>\n",
       "      <th>4</th>\n",
       "      <td>17</td>\n",
       "      <td>attacker</td>\n",
       "      <td>red</td>\n",
       "      <td>yes</td>\n",
       "      <td>0.423325</td>\n",
       "    </tr>\n",
       "    <tr>\n",
       "      <th>...</th>\n",
       "      <td>...</td>\n",
       "      <td>...</td>\n",
       "      <td>...</td>\n",
       "      <td>...</td>\n",
       "      <td>...</td>\n",
       "    </tr>\n",
       "    <tr>\n",
       "      <th>1999995</th>\n",
       "      <td>15</td>\n",
       "      <td>attacker</td>\n",
       "      <td>yellow</td>\n",
       "      <td>yes</td>\n",
       "      <td>0.364752</td>\n",
       "    </tr>\n",
       "    <tr>\n",
       "      <th>1999996</th>\n",
       "      <td>33</td>\n",
       "      <td>defender</td>\n",
       "      <td>red</td>\n",
       "      <td>no</td>\n",
       "      <td>0.034835</td>\n",
       "    </tr>\n",
       "    <tr>\n",
       "      <th>1999997</th>\n",
       "      <td>10</td>\n",
       "      <td>goalkeeper</td>\n",
       "      <td>yellow</td>\n",
       "      <td>no</td>\n",
       "      <td>0.393862</td>\n",
       "    </tr>\n",
       "    <tr>\n",
       "      <th>1999998</th>\n",
       "      <td>10</td>\n",
       "      <td>goalkeeper</td>\n",
       "      <td>yellow</td>\n",
       "      <td>no</td>\n",
       "      <td>0.381339</td>\n",
       "    </tr>\n",
       "    <tr>\n",
       "      <th>1999999</th>\n",
       "      <td>2</td>\n",
       "      <td>attacker</td>\n",
       "      <td>red</td>\n",
       "      <td>no</td>\n",
       "      <td>0.580796</td>\n",
       "    </tr>\n",
       "  </tbody>\n",
       "</table>\n",
       "<p>2000000 rows × 5 columns</p>\n",
       "</div>"
      ],
      "text/plain": [
       "         age    position    team  win  probability\n",
       "0         25    defender     red   no     0.681043\n",
       "1         27  goalkeeper     red   no     0.719119\n",
       "2         37  goalkeeper   green   no     0.178728\n",
       "3         27    attacker    blue   no     0.082314\n",
       "4         17    attacker     red  yes     0.423325\n",
       "...      ...         ...     ...  ...          ...\n",
       "1999995   15    attacker  yellow  yes     0.364752\n",
       "1999996   33    defender     red   no     0.034835\n",
       "1999997   10  goalkeeper  yellow   no     0.393862\n",
       "1999998   10  goalkeeper  yellow   no     0.381339\n",
       "1999999    2    attacker     red   no     0.580796\n",
       "\n",
       "[2000000 rows x 5 columns]"
      ]
     },
     "execution_count": 4,
     "metadata": {},
     "output_type": "execute_result"
    }
   ],
   "source": [
    "league\n"
   ]
  },
  {
   "cell_type": "code",
   "execution_count": 5,
   "id": "12ba9574-f021-48d6-bcfa-6c68ec531daf",
   "metadata": {},
   "outputs": [
    {
     "name": "stdout",
     "output_type": "stream",
     "text": [
      "<class 'pandas.core.frame.DataFrame'>\n",
      "RangeIndex: 2000000 entries, 0 to 1999999\n",
      "Data columns (total 5 columns):\n",
      " #   Column       Dtype  \n",
      "---  ------       -----  \n",
      " 0   age          int32  \n",
      " 1   position     object \n",
      " 2   team         object \n",
      " 3   win          object \n",
      " 4   probability  float64\n",
      "dtypes: float64(1), int32(1), object(3)\n",
      "memory usage: 68.7+ MB\n"
     ]
    }
   ],
   "source": [
    "league.info()\n",
    "#int 32 - floast 64 and 3 object(strings)\n",
    "#paratiroume oti exw ena int32 ena float64\n",
    "# 68MB of total memory usage\n"
   ]
  },
  {
   "cell_type": "code",
   "execution_count": 6,
   "id": "f3877e6d-400f-4014-b807-10330cacf614",
   "metadata": {},
   "outputs": [
    {
     "data": {
      "text/html": [
       "<div>\n",
       "<style scoped>\n",
       "    .dataframe tbody tr th:only-of-type {\n",
       "        vertical-align: middle;\n",
       "    }\n",
       "\n",
       "    .dataframe tbody tr th {\n",
       "        vertical-align: top;\n",
       "    }\n",
       "\n",
       "    .dataframe thead th {\n",
       "        text-align: right;\n",
       "    }\n",
       "</style>\n",
       "<table border=\"1\" class=\"dataframe\">\n",
       "  <thead>\n",
       "    <tr style=\"text-align: right;\">\n",
       "      <th></th>\n",
       "      <th>age</th>\n",
       "      <th>probability</th>\n",
       "    </tr>\n",
       "    <tr>\n",
       "      <th>team</th>\n",
       "      <th></th>\n",
       "      <th></th>\n",
       "    </tr>\n",
       "  </thead>\n",
       "  <tbody>\n",
       "    <tr>\n",
       "      <th>blue</th>\n",
       "      <td>19.983003</td>\n",
       "      <td>0.499519</td>\n",
       "    </tr>\n",
       "    <tr>\n",
       "      <th>green</th>\n",
       "      <td>20.001356</td>\n",
       "      <td>0.499723</td>\n",
       "    </tr>\n",
       "    <tr>\n",
       "      <th>red</th>\n",
       "      <td>20.005583</td>\n",
       "      <td>0.499759</td>\n",
       "    </tr>\n",
       "    <tr>\n",
       "      <th>yellow</th>\n",
       "      <td>20.010651</td>\n",
       "      <td>0.500155</td>\n",
       "    </tr>\n",
       "  </tbody>\n",
       "</table>\n",
       "</div>"
      ],
      "text/plain": [
       "              age  probability\n",
       "team                          \n",
       "blue    19.983003     0.499519\n",
       "green   20.001356     0.499723\n",
       "red     20.005583     0.499759\n",
       "yellow  20.010651     0.500155"
      ]
     },
     "execution_count": 6,
     "metadata": {},
     "output_type": "execute_result"
    }
   ],
   "source": [
    "league.groupby(['team']).mean()"
   ]
  },
  {
   "cell_type": "code",
   "execution_count": 7,
   "id": "686a2fa8-8bec-46ae-b0c2-a40feada956b",
   "metadata": {},
   "outputs": [
    {
     "data": {
      "text/html": [
       "<div>\n",
       "<style scoped>\n",
       "    .dataframe tbody tr th:only-of-type {\n",
       "        vertical-align: middle;\n",
       "    }\n",
       "\n",
       "    .dataframe tbody tr th {\n",
       "        vertical-align: top;\n",
       "    }\n",
       "\n",
       "    .dataframe thead th {\n",
       "        text-align: right;\n",
       "    }\n",
       "</style>\n",
       "<table border=\"1\" class=\"dataframe\">\n",
       "  <thead>\n",
       "    <tr style=\"text-align: right;\">\n",
       "      <th></th>\n",
       "      <th></th>\n",
       "      <th>age</th>\n",
       "      <th>probability</th>\n",
       "    </tr>\n",
       "    <tr>\n",
       "      <th>team</th>\n",
       "      <th>position</th>\n",
       "      <th></th>\n",
       "      <th></th>\n",
       "    </tr>\n",
       "  </thead>\n",
       "  <tbody>\n",
       "    <tr>\n",
       "      <th rowspan=\"3\" valign=\"top\">blue</th>\n",
       "      <th>attacker</th>\n",
       "      <td>20.005968</td>\n",
       "      <td>0.498263</td>\n",
       "    </tr>\n",
       "    <tr>\n",
       "      <th>defender</th>\n",
       "      <td>19.975194</td>\n",
       "      <td>0.499348</td>\n",
       "    </tr>\n",
       "    <tr>\n",
       "      <th>goalkeeper</th>\n",
       "      <td>19.967840</td>\n",
       "      <td>0.500945</td>\n",
       "    </tr>\n",
       "    <tr>\n",
       "      <th rowspan=\"3\" valign=\"top\">green</th>\n",
       "      <th>attacker</th>\n",
       "      <td>20.017292</td>\n",
       "      <td>0.500274</td>\n",
       "    </tr>\n",
       "    <tr>\n",
       "      <th>defender</th>\n",
       "      <td>20.002325</td>\n",
       "      <td>0.499250</td>\n",
       "    </tr>\n",
       "    <tr>\n",
       "      <th>goalkeeper</th>\n",
       "      <td>19.984431</td>\n",
       "      <td>0.499640</td>\n",
       "    </tr>\n",
       "    <tr>\n",
       "      <th rowspan=\"3\" valign=\"top\">red</th>\n",
       "      <th>attacker</th>\n",
       "      <td>19.987505</td>\n",
       "      <td>0.499503</td>\n",
       "    </tr>\n",
       "    <tr>\n",
       "      <th>defender</th>\n",
       "      <td>19.994590</td>\n",
       "      <td>0.500427</td>\n",
       "    </tr>\n",
       "    <tr>\n",
       "      <th>goalkeeper</th>\n",
       "      <td>20.034683</td>\n",
       "      <td>0.499349</td>\n",
       "    </tr>\n",
       "    <tr>\n",
       "      <th rowspan=\"3\" valign=\"top\">yellow</th>\n",
       "      <th>attacker</th>\n",
       "      <td>19.989329</td>\n",
       "      <td>0.499425</td>\n",
       "    </tr>\n",
       "    <tr>\n",
       "      <th>defender</th>\n",
       "      <td>19.981130</td>\n",
       "      <td>0.500819</td>\n",
       "    </tr>\n",
       "    <tr>\n",
       "      <th>goalkeeper</th>\n",
       "      <td>20.061339</td>\n",
       "      <td>0.500221</td>\n",
       "    </tr>\n",
       "  </tbody>\n",
       "</table>\n",
       "</div>"
      ],
      "text/plain": [
       "                         age  probability\n",
       "team   position                          \n",
       "blue   attacker    20.005968     0.498263\n",
       "       defender    19.975194     0.499348\n",
       "       goalkeeper  19.967840     0.500945\n",
       "green  attacker    20.017292     0.500274\n",
       "       defender    20.002325     0.499250\n",
       "       goalkeeper  19.984431     0.499640\n",
       "red    attacker    19.987505     0.499503\n",
       "       defender    19.994590     0.500427\n",
       "       goalkeeper  20.034683     0.499349\n",
       "yellow attacker    19.989329     0.499425\n",
       "       defender    19.981130     0.500819\n",
       "       goalkeeper  20.061339     0.500221"
      ]
     },
     "execution_count": 7,
     "metadata": {},
     "output_type": "execute_result"
    }
   ],
   "source": [
    "league.groupby(['team','position']).mean()"
   ]
  },
  {
   "cell_type": "code",
   "execution_count": 8,
   "id": "6bdc7bae-7649-4267-9c94-35b72452d37f",
   "metadata": {},
   "outputs": [
    {
     "data": {
      "text/plain": [
       "team    position  \n",
       "blue    attacker      20.005968\n",
       "        defender      19.975194\n",
       "        goalkeeper    19.967840\n",
       "green   attacker      20.017292\n",
       "        defender      20.002325\n",
       "        goalkeeper    19.984431\n",
       "red     attacker      19.987505\n",
       "        defender      19.994590\n",
       "        goalkeeper    20.034683\n",
       "yellow  attacker      19.989329\n",
       "        defender      19.981130\n",
       "        goalkeeper    20.061339\n",
       "Name: age, dtype: float64"
      ]
     },
     "execution_count": 8,
     "metadata": {},
     "output_type": "execute_result"
    }
   ],
   "source": [
    "league.groupby(['team','position'])['age'].mean()"
   ]
  },
  {
   "cell_type": "code",
   "execution_count": 9,
   "id": "283ed123-1bb7-454b-9305-6005695e72ad",
   "metadata": {},
   "outputs": [
    {
     "data": {
      "text/plain": [
       "team    position  \n",
       "blue    attacker      20.005968\n",
       "        defender      19.975194\n",
       "        goalkeeper    19.967840\n",
       "green   attacker      20.017292\n",
       "        defender      20.002325\n",
       "        goalkeeper    19.984431\n",
       "red     attacker      19.987505\n",
       "        defender      19.994590\n",
       "        goalkeeper    20.034683\n",
       "yellow  attacker      19.989329\n",
       "        defender      19.981130\n",
       "        goalkeeper    20.061339\n",
       "Name: age, dtype: float64"
      ]
     },
     "execution_count": 9,
     "metadata": {},
     "output_type": "execute_result"
    }
   ],
   "source": [
    "league.groupby(['team','position']).mean()['age']"
   ]
  },
  {
   "cell_type": "code",
   "execution_count": 10,
   "id": "599e43dd-65cc-4bfe-bc7a-9a1af806eb30",
   "metadata": {},
   "outputs": [
    {
     "name": "stdout",
     "output_type": "stream",
     "text": [
      "389 ms ± 32.7 ms per loop (mean ± std. dev. of 7 runs, 1 loop each)\n"
     ]
    }
   ],
   "source": [
    "%timeit league.groupby(['team','position']).mean()['age']\n",
    "#750ms to run"
   ]
  },
  {
   "cell_type": "code",
   "execution_count": 11,
   "id": "08cdbcae-0a15-4886-b0f5-d8ffbac2dc5d",
   "metadata": {},
   "outputs": [],
   "source": [
    "league['position']=league['position'].astype('category')"
   ]
  },
  {
   "cell_type": "code",
   "execution_count": 12,
   "id": "b7202368-628a-479b-81f3-c2f73601f2d5",
   "metadata": {},
   "outputs": [],
   "source": [
    "league['team']=league['team'].astype('category')"
   ]
  },
  {
   "cell_type": "code",
   "execution_count": 13,
   "id": "a83251bb-216d-4438-8f56-0b2d3d86e7d1",
   "metadata": {},
   "outputs": [
    {
     "name": "stdout",
     "output_type": "stream",
     "text": [
      "<class 'pandas.core.frame.DataFrame'>\n",
      "RangeIndex: 2000000 entries, 0 to 1999999\n",
      "Data columns (total 5 columns):\n",
      " #   Column       Dtype   \n",
      "---  ------       -----   \n",
      " 0   age          int32   \n",
      " 1   position     category\n",
      " 2   team         category\n",
      " 3   win          object  \n",
      " 4   probability  float64 \n",
      "dtypes: category(2), float64(1), int32(1), object(1)\n",
      "memory usage: 42.0+ MB\n"
     ]
    }
   ],
   "source": [
    "league.info() #from 68 to 42 MB"
   ]
  },
  {
   "cell_type": "code",
   "execution_count": 14,
   "id": "2fa336e5-a26b-4ac6-bc75-7107d364a6f8",
   "metadata": {},
   "outputs": [],
   "source": [
    "league['age']=league['age'].astype('int8') \n",
    "league['probability']=league['probability'].astype('float32')"
   ]
  },
  {
   "cell_type": "code",
   "execution_count": 15,
   "id": "75e1cb38-2ccc-494d-8804-a87edbef62f1",
   "metadata": {},
   "outputs": [
    {
     "name": "stdout",
     "output_type": "stream",
     "text": [
      "<class 'pandas.core.frame.DataFrame'>\n",
      "RangeIndex: 2000000 entries, 0 to 1999999\n",
      "Data columns (total 5 columns):\n",
      " #   Column       Dtype   \n",
      "---  ------       -----   \n",
      " 0   age          int8    \n",
      " 1   position     category\n",
      " 2   team         category\n",
      " 3   win          object  \n",
      " 4   probability  float32 \n",
      "dtypes: category(2), float32(1), int8(1), object(1)\n",
      "memory usage: 28.6+ MB\n"
     ]
    }
   ],
   "source": [
    "league.info()#from 42 to 28"
   ]
  },
  {
   "cell_type": "code",
   "execution_count": 16,
   "id": "2581f660-6887-4790-b566-9b454b184989",
   "metadata": {},
   "outputs": [],
   "source": [
    "#league['win']=league['win'].map({'yes':1,'no':0})\n",
    "#an to kanw etsi den katalabainei true false kai ta kanei int32"
   ]
  },
  {
   "cell_type": "code",
   "execution_count": 17,
   "id": "224b59f4-465b-46ee-920b-c20e6d039906",
   "metadata": {},
   "outputs": [
    {
     "name": "stdout",
     "output_type": "stream",
     "text": [
      "<class 'pandas.core.frame.DataFrame'>\n",
      "RangeIndex: 2000000 entries, 0 to 1999999\n",
      "Data columns (total 5 columns):\n",
      " #   Column       Dtype   \n",
      "---  ------       -----   \n",
      " 0   age          int8    \n",
      " 1   position     category\n",
      " 2   team         category\n",
      " 3   win          object  \n",
      " 4   probability  float32 \n",
      "dtypes: category(2), float32(1), int8(1), object(1)\n",
      "memory usage: 28.6+ MB\n"
     ]
    }
   ],
   "source": [
    "league.info()\n"
   ]
  },
  {
   "cell_type": "code",
   "execution_count": 18,
   "id": "28ac97c7-ecb1-4f64-b816-574059e41265",
   "metadata": {},
   "outputs": [],
   "source": [
    "league['win']=league['win'].map({'yes':True,'no':False})"
   ]
  },
  {
   "cell_type": "code",
   "execution_count": 19,
   "id": "cfe6f32a-fa2c-4d7b-97be-57366d92d79b",
   "metadata": {},
   "outputs": [
    {
     "name": "stdout",
     "output_type": "stream",
     "text": [
      "<class 'pandas.core.frame.DataFrame'>\n",
      "RangeIndex: 2000000 entries, 0 to 1999999\n",
      "Data columns (total 5 columns):\n",
      " #   Column       Dtype   \n",
      "---  ------       -----   \n",
      " 0   age          int8    \n",
      " 1   position     category\n",
      " 2   team         category\n",
      " 3   win          bool    \n",
      " 4   probability  float32 \n",
      "dtypes: bool(1), category(2), float32(1), int8(1)\n",
      "memory usage: 15.3 MB\n"
     ]
    }
   ],
   "source": [
    "league.info()"
   ]
  },
  {
   "cell_type": "code",
   "execution_count": 20,
   "id": "93bd6cf6-e9f9-4970-8415-3764167b0d8a",
   "metadata": {},
   "outputs": [
    {
     "data": {
      "text/plain": [
       "0.22270742358078602"
      ]
     },
     "execution_count": 20,
     "metadata": {},
     "output_type": "execute_result"
    }
   ],
   "source": [
    "15.3/68.7\n",
    "\n"
   ]
  },
  {
   "cell_type": "code",
   "execution_count": 21,
   "id": "8f594464-e52b-422f-b083-671bf4a8e80e",
   "metadata": {},
   "outputs": [],
   "source": [
    "#new data is the 1/5 of the original one"
   ]
  },
  {
   "cell_type": "code",
   "execution_count": null,
   "id": "6e8d0538-06e1-4fc1-bc11-f175655e17ac",
   "metadata": {},
   "outputs": [],
   "source": []
  }
 ],
 "metadata": {
  "kernelspec": {
   "display_name": "Python 3 (ipykernel)",
   "language": "python",
   "name": "python3"
  },
  "language_info": {
   "codemirror_mode": {
    "name": "ipython",
    "version": 3
   },
   "file_extension": ".py",
   "mimetype": "text/x-python",
   "name": "python",
   "nbconvert_exporter": "python",
   "pygments_lexer": "ipython3",
   "version": "3.9.13"
  }
 },
 "nbformat": 4,
 "nbformat_minor": 5
}
